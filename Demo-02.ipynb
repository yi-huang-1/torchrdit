{
 "cells": [
  {
   "cell_type": "code",
   "execution_count": 1,
   "id": "510ad615",
   "metadata": {},
   "outputs": [],
   "source": [
    "import torchrdit\n",
    "import numpy as np\n",
    "import matplotlib.pyplot as plt\n",
    "import torch\n",
    "import time\n",
    "\n",
    "from torchrdit.solver import RCWASolver, RDITSolver\n",
    "from torchrdit.utils import operator_proj, create_material\n",
    "from tqdm import tqdm, trange"
   ]
  },
  {
   "cell_type": "markdown",
   "id": "d0759d83-d75e-4858-aa1f-014b2277cb13",
   "metadata": {
    "tags": []
   },
   "source": [
    "# Example 1 - GMRF with hexagonal unit cells with dispersive materials\n",
    "\n",
    "This example simulates the guided-mode resonance filter (GMRF) using RCWA with dispersive materials. The device is composed of a dispersive SiC hexagonal grating layer, a SiN waveguide layer and a fused silica substrate."
   ]
  },
  {
   "cell_type": "code",
   "execution_count": 2,
   "id": "2676b6c4-0696-47a7-8e68-123475b9b7b5",
   "metadata": {
    "tags": []
   },
   "outputs": [
    {
     "name": "stdout",
     "output_type": "stream",
     "text": [
      "------------------------------------\n",
      "layer # Reflection\n",
      "\tmaterial name: air\n",
      "\tpermittivity: (1+0j)\n",
      "\tpermeability: (1+0j)\n",
      "------------------------------------\n",
      "layer # 0\n",
      "\tmaterial name: SiC\n",
      "\tthinkness = 0.23000000417232513\n",
      "\tdispersive: True\n",
      "\thomogeneous: False\n",
      "\tto be optimized: True\n",
      "------------------------------------\n",
      "layer # 1\n",
      "\tmaterial name: SiN\n",
      "\tthinkness = 0.3449999988079071\n",
      "\tdispersive: False\n",
      "\thomogeneous: True\n",
      "\tto be optimized: False\n",
      "------------------------------------\n",
      "layer # Transmission\n",
      "\tmaterial name: FusedSilica\n",
      "\tpermittivity: (2.2801+0j)\n",
      "\tpermeability: (1+0j)\n",
      "------------------------------------\n"
     ]
    }
   ],
   "source": [
    "# units, normalizing all units to 'um'\n",
    "um = 1\n",
    "nm = 1e-3 * um\n",
    "degrees = np.pi / 180\n",
    "\n",
    "# angles of incident waves\n",
    "theta = 0 * degrees\n",
    "phi = 0 * degrees\n",
    "\n",
    "# polarization\n",
    "pte = 1\n",
    "ptm = 0\n",
    "\n",
    "# refractive index\n",
    "n_SiO = 1.4496\n",
    "n_SiN = 1.9360\n",
    "n_fs = 1.5100\n",
    "\n",
    "# dimensions of the cell\n",
    "a = 1150 * nm\n",
    "b = a * np.sqrt(3)\n",
    "\n",
    "# radius of the holes on the top layer\n",
    "r = 400 * nm\n",
    "\n",
    "# thickness of each layer\n",
    "h1 = torch.tensor(230 * nm, dtype=torch.float32)\n",
    "h2 = torch.tensor(345 * nm, dtype=torch.float32)\n",
    "\n",
    "# lattice vectors of the cell\n",
    "t1 = torch.tensor([[a/2, -a*np.sqrt(3)/2]], dtype=torch.float32)\n",
    "t2 = torch.tensor([[a/2, a*np.sqrt(3)/2]], dtype=torch.float32)\n",
    "\n",
    "# creating materials\n",
    "# all mateiral objects should be added to the 'materiallist' parameter when initializing the solver\n",
    "material_sic = create_material(name='SiC', dielectric_dispersion=True, user_dielectric_file='materials/11242022/Si_C-e.txt', data_format='freq-eps', data_unit='thz')\n",
    "material_sio2 = create_material(name='SiO2', dielectric_dispersion=True, user_dielectric_file='materials/11242022/SiO2-e.txt', data_format='freq-eps', data_unit='thz')\n",
    "material_sin = create_material(name='SiN', permittivity=n_SiN**2)\n",
    "material_fs = create_material(name='FusedSilica', permittivity=n_fs**2)\n",
    "\n",
    "# Initialize the instance of the solver engine\n",
    "dev1_dispersive = RDITSolver(\n",
    "            rdim = [512, 512],\n",
    "            lam0 = np.array([1540 * nm, 1550 * nm, 1560 * nm, 1570 * nm]),\n",
    "            lengthunit = 'um',\n",
    "            t1 = t1,\n",
    "            t2 = t2)\n",
    "\n",
    "# update the material of the transmission layer\n",
    "dev1_dispersive.update_trn_material(trn_material=material_fs)\n",
    "\n",
    "# add a grating layer with patterns, the pattern can be updated later\n",
    "dev1_dispersive.add_layer(material_name=material_sic,\n",
    "              thickness=h1,\n",
    "              is_homogeneous=False,\n",
    "              is_optimize=True)\n",
    "\n",
    "# add a homongeneous layer\n",
    "dev1_dispersive.add_layer(material_name=material_sin,\n",
    "              thickness=h2,\n",
    "              is_homogeneous=True,\n",
    "              is_optimize=False)\n",
    "\n",
    "src1 = dev1_dispersive.add_source(theta = 0 * degrees,\n",
    "                 phi = 0 * degrees,\n",
    "                 pte = 1,\n",
    "                 ptm = 0)\n",
    "\n",
    "# print layer information\n",
    "dev1_dispersive.get_layer_structure()"
   ]
  },
  {
   "cell_type": "code",
   "execution_count": 3,
   "id": "af61d533-b4ad-49e1-ae63-7f88a143e3cd",
   "metadata": {},
   "outputs": [],
   "source": [
    "# build hexagonal unit cell\n",
    "rsq = dev1_dispersive.XO ** 2 + (dev1_dispersive.YO - b / 2) ** 2\n",
    "mask = (rsq <= r ** 2)\n",
    "rsq = dev1_dispersive.XO ** 2 + (dev1_dispersive.YO + b / 2) ** 2\n",
    "mask = mask | (rsq <= r ** 2)\n",
    "rsq = (dev1_dispersive.XO - a / 2) ** 2 + dev1_dispersive.YO ** 2\n",
    "mask = mask | (rsq <= r ** 2)\n",
    "rsq = (dev1_dispersive.XO + a / 2) ** 2 + dev1_dispersive.YO ** 2\n",
    "mask = mask | (rsq <= r ** 2)\n",
    "\n",
    "dev1_dispersive.update_er_with_mask(mask=mask, layer_index=0, set_grad = True)"
   ]
  },
  {
   "cell_type": "code",
   "execution_count": 4,
   "id": "82c8c74d-9b0a-46b7-8d69-92d3ab2e5555",
   "metadata": {},
   "outputs": [],
   "source": [
    "data = dev1_dispersive.solve(src1)# Example 1 - GMRF with hexagonal unit cells"
   ]
  },
  {
   "cell_type": "code",
   "execution_count": 5,
   "id": "a0f9e033-6739-4206-bd9c-ae3fd73ae10c",
   "metadata": {},
   "outputs": [
    {
     "name": "stdout",
     "output_type": "stream",
     "text": [
      "The transmission efficiency is 80.71398944920128%\n",
      "The reflection efficiency is 17.185028477982332%\n"
     ]
    }
   ],
   "source": [
    "print(f\"The transmission efficiency is {data['TRN'][0] * 100}%\")\n",
    "print(f\"The reflection efficiency is {data['REF'][0] * 100}%\")"
   ]
  },
  {
   "cell_type": "code",
   "execution_count": 6,
   "id": "298ccf00-512d-44ee-9c5b-ba121e7cd491",
   "metadata": {},
   "outputs": [],
   "source": [
    "torch.sum(data['TRN'][0]).backward()"
   ]
  }
 ],
 "metadata": {
  "kernelspec": {
   "display_name": "cem-torch2",
   "language": "python",
   "name": "cem-torch2"
  },
  "language_info": {
   "codemirror_mode": {
    "name": "ipython",
    "version": 3
   },
   "file_extension": ".py",
   "mimetype": "text/x-python",
   "name": "python",
   "nbconvert_exporter": "python",
   "pygments_lexer": "ipython3",
   "version": "3.10.11"
  }
 },
 "nbformat": 4,
 "nbformat_minor": 5
}
