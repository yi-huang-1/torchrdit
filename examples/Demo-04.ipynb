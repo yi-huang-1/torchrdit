{
 "cells": [
  {
   "cell_type": "code",
   "execution_count": 22,
   "id": "510ad615",
   "metadata": {},
   "outputs": [],
   "source": [
    "import numpy as np\n",
    "import matplotlib.pyplot as plt\n",
    "import torch\n",
    "import time\n",
    "\n",
    "from torchrdit.solver import SolverConstructer\n",
    "from torchrdit.utils import operator_proj, create_material\n",
    "from tqdm import trange\n",
    "from torchrdit.constants import Algorithm, Precision"
   ]
  },
  {
   "cell_type": "code",
   "execution_count": 2,
   "id": "0f4e007c-3d07-4c07-967f-1bf816310367",
   "metadata": {},
   "outputs": [],
   "source": [
    "# build hexagonal unit cell\n",
    "def make_GMRF_hexagonal_mask(radius_var, XO, YO, a, b, eta=0.5, beta=100, N=2):\n",
    "    rsq1 = XO ** 2 + (YO - b / 2) ** 2\n",
    "    m1 = (rsq1 - (radius_var) ** 2)+0.5\n",
    "    m1 = operator_proj(m1, eta=eta, beta = beta, num_proj=N)\n",
    "    rsq2 = XO ** 2 + (YO + b / 2) ** 2\n",
    "    m2 = (rsq2 - (radius_var) ** 2)+0.5\n",
    "    m2 = operator_proj(m2, eta=eta, beta = beta, num_proj=N)\n",
    "    rsq3 = (XO - a / 2) ** 2 + YO ** 2\n",
    "    m3 = (rsq3 - (radius_var) ** 2)+0.5\n",
    "    m3 = operator_proj(m3, eta=eta, beta = beta, num_proj=N)\n",
    "    rsq4 = (XO + a / 2) ** 2 + YO ** 2\n",
    "    m4 = (rsq4 - (radius_var) ** 2)+0.5\n",
    "    m4 = operator_proj(m4, eta=eta, beta = beta, num_proj=N)\n",
    "\n",
    "    mask = m1 + m2 + m3 + m4 - 3\n",
    "    return mask"
   ]
  },
  {
   "cell_type": "code",
   "execution_count": 5,
   "id": "eb1f6a31-8fcc-4168-9e2b-b40a9bf00db6",
   "metadata": {},
   "outputs": [],
   "source": [
    "def GMRF_simulator(radius, lams, rdit_orders = 10, kdims = 9,is_showinfo = False):\n",
    "    # units\n",
    "    um = 1\n",
    "    nm = 1e-3 * um\n",
    "    degrees = np.pi / 180\n",
    "\n",
    "    theta = 0 * degrees\n",
    "    phi = 0 * degrees\n",
    "\n",
    "    pte = 1\n",
    "    ptm = 0\n",
    "\n",
    "    # device parameters\n",
    "    n_SiO = 1.4496\n",
    "    n_SiN = 1.9360\n",
    "    n_fs = 1.5100\n",
    "\n",
    "    a = 1150 * nm\n",
    "    b = a * np.sqrt(3)\n",
    "\n",
    "\n",
    "    h1 = torch.tensor(230 * nm, dtype=torch.float32)\n",
    "    h2 = torch.tensor([345 * nm], dtype=torch.float32)\n",
    "\n",
    "    t1 = torch.tensor([[a/2, -a*np.sqrt(3)/2]], dtype=torch.float32)\n",
    "    t2 = torch.tensor([[a/2, a*np.sqrt(3)/2]], dtype=torch.float32)\n",
    "\n",
    "    material_sio = create_material(name='SiO', permittivity=n_SiO**2)\n",
    "    material_sin = create_material(name='SiN', permittivity=n_SiN**2)\n",
    "    material_fs = create_material(name='FusedSilica', permittivity=n_fs**2)\n",
    "\n",
    "    gmrf_sim = SolverConstructer.creat_sovler(\n",
    "        algorithm=Algorithm.RDIT,\n",
    "        precision=Precision.DOUBLE,\n",
    "        rdim = [512, 512],\n",
    "        kdim = [kdims, kdims],\n",
    "        lam0 = lams,\n",
    "        lengthunit = 'um',\n",
    "        t1 = t1,\n",
    "        t2 = t2,\n",
    "        is_use_FFF = True)\n",
    "    \n",
    "    gmrf_sim.set_rdit_order(rdit_orders)\n",
    "    \n",
    "    gmrf_sim.update_trn_material(trn_material=material_fs)\n",
    "\n",
    "    gmrf_sim.add_layer(material_name=material_sio,\n",
    "                  thickness=h1,\n",
    "                  is_homogeneous=False,\n",
    "                  is_optimize=True)\n",
    "\n",
    "    gmrf_sim.add_layer(material_name=material_sin,\n",
    "                  thickness=h2,\n",
    "                  is_homogeneous=True,\n",
    "                  is_optimize=False)\n",
    "\n",
    "    src = gmrf_sim.add_source(theta = 0 * degrees,\n",
    "                     phi = 0 * degrees,\n",
    "                     pte = 1,\n",
    "                     ptm = 0)\n",
    "\n",
    "    mask = make_GMRF_hexagonal_mask(radius, gmrf_sim.XO, gmrf_sim.YO, a, b, eta=0.5, beta=100, N=2)\n",
    "    gmrf_sim.update_er_with_mask(mask=mask, layer_index=0, set_grad = False)\n",
    "\n",
    "    data = gmrf_sim.solve(src)# Example 1 - GMRF with hexagonal unit cells\n",
    "    \n",
    "    return data"
   ]
  },
  {
   "cell_type": "markdown",
   "id": "badf05b2-cca3-4464-861d-bc57df40fa0b",
   "metadata": {},
   "source": [
    "# Example 1"
   ]
  },
  {
   "cell_type": "code",
   "execution_count": 6,
   "id": "2698fb79-fd85-4b90-a282-479909f573c3",
   "metadata": {},
   "outputs": [],
   "source": [
    "# units\n",
    "um = 1\n",
    "nm = 1e-3 * um\n",
    "\n",
    "a = 1150 * nm\n",
    "b = a * np.sqrt(3)\n",
    "\n",
    "r0_rdit = torch.tensor(400 * nm)\n",
    "r0_rdit.requires_grad = True\n",
    "lam00 = np.array([1540 * nm])\n",
    "\n",
    "data_rdit = GMRF_simulator(r0_rdit, lam00, rdit_orders=10, kdims = 15, is_showinfo = False)"
   ]
  },
  {
   "cell_type": "code",
   "execution_count": 7,
   "id": "5fc385f1-2686-4fb6-a921-b5b173e6c582",
   "metadata": {},
   "outputs": [
    {
     "name": "stdout",
     "output_type": "stream",
     "text": [
      "The T efficiency (R-DIT) is 92.23461944447925%\n",
      "The R efficiency (R-DIT) is 7.765383394287327%\n"
     ]
    }
   ],
   "source": [
    "print(f\"The T efficiency (R-DIT) is {data_rdit['TRN'][0] * 100}%\")\n",
    "print(f\"The R efficiency (R-DIT) is {data_rdit['REF'][0] * 100}%\")"
   ]
  },
  {
   "cell_type": "code",
   "execution_count": 8,
   "id": "b205e439-ce21-4bde-9671-e8e5fa37ff90",
   "metadata": {},
   "outputs": [],
   "source": [
    "torch.sum(data_rdit['TRN'][0]).backward()"
   ]
  },
  {
   "cell_type": "code",
   "execution_count": 9,
   "id": "fe34ae1b-61a8-4f29-a4a5-14b22f989c22",
   "metadata": {},
   "outputs": [
    {
     "name": "stdout",
     "output_type": "stream",
     "text": [
      "The derivative of the sum of the transmission efficency with respect to the radius is:\n",
      "\tR-DIT:\t -8.102300643920898\n"
     ]
    }
   ],
   "source": [
    "print(f\"The derivative of the sum of the transmission efficency with respect to the radius is:\")\n",
    "print(f\"\\tR-DIT:\\t {r0_rdit.grad}\")"
   ]
  },
  {
   "cell_type": "markdown",
   "id": "f5f08e06-baad-4026-ab9d-39d7312c46da",
   "metadata": {
    "tags": []
   },
   "source": [
    "## Frequency Response\n",
    "\n",
    "This section shows the spectrum of the GMRF by using RCWA and R-DIT."
   ]
  },
  {
   "cell_type": "code",
   "execution_count": 10,
   "id": "2e09c726-7ff5-45bd-9d60-516af53ab04b",
   "metadata": {},
   "outputs": [],
   "source": [
    "def plot_spectrum(lamswp0, data_rdit):\n",
    "    fig_size = (4,3)\n",
    "    markeverypoints = 4\n",
    "    nlam = len(lamswp0)\n",
    "    nref_gmrf_rdit = np.zeros(nlam)\n",
    "    ntrn_gmrf_rdit = np.zeros(nlam)\n",
    "    ncon_gmrf_rdit = np.zeros(nlam)\n",
    "\n",
    "    for ilam, elem in enumerate(lamswp0):\n",
    "        nref_gmrf_rdit[ilam] = data_rdit['REF'][ilam].detach().clone()\n",
    "        ntrn_gmrf_rdit[ilam] = data_rdit['TRN'][ilam].detach().clone()\n",
    "        ncon_gmrf_rdit[ilam] = nref_gmrf_rdit[ilam] + ntrn_gmrf_rdit[ilam]\n",
    "\n",
    "    plt.rcParams['font.sans-serif'] = ['Times New Roman']\n",
    "    plt.rcParams.update({'font.size': 10});\n",
    "    fig_gmrf, ax_gmrf = plt.subplots(figsize=fig_size);\n",
    "    ax_gmrf.set_xlim(lamswp0[0], lamswp0[-1]);\n",
    "\n",
    "    ax_gmrf.plot(lamswp0, nref_gmrf_rdit, color='blue', marker='+', linestyle='-', linewidth=1, markersize=4, markevery=markeverypoints, label='Ref-RDIT');\n",
    "    ax_gmrf.plot(lamswp0, ntrn_gmrf_rdit, color='m', marker='x', linestyle='-', linewidth=1, markersize=4, markevery=markeverypoints, label='Trn-RDIT');\n",
    "\n",
    "    ax_gmrf.legend();\n",
    "    ax_gmrf.set_xlabel('Wavelength (um)');\n",
    "    ax_gmrf.set_ylabel('Transmission/Reflection Efficiency');\n",
    "    ax_gmrf.set_ylim([0,1.0]);\n",
    "    ax_gmrf.grid('on');\n",
    "    \n",
    "    return fig_gmrf, ax_gmrf "
   ]
  },
  {
   "cell_type": "code",
   "execution_count": 11,
   "id": "13f206e0-bee8-43bd-b2ee-256e1948d471",
   "metadata": {},
   "outputs": [],
   "source": [
    "r1_rdit = torch.tensor(400 * nm)\n",
    "r1_rdit.requires_grad = False\n",
    "\n",
    "# Source Parameter\n",
    "nlam = 200\n",
    "lam1 = 1530 * nm\n",
    "lam2 = 1550 * nm\n",
    "lamswp_gmrf = np.linspace(lam1, lam2, nlam, endpoint=True)\n",
    "\n",
    "data_gmrfswp_rdit = GMRF_simulator(r1_rdit, lamswp_gmrf, rdit_orders=10, kdims = 11, is_showinfo = False)"
   ]
  },
  {
   "cell_type": "code",
   "execution_count": 12,
   "id": "a31cead5-4288-428e-8a5b-425d743be38a",
   "metadata": {},
   "outputs": [
    {
     "data": {
      "image/png": "[encoded data removed]",
      "text/plain": [
       "<Figure size 400x300 with 1 Axes>"
      ]
     },
     "metadata": {},
     "output_type": "display_data"
    }
   ],
   "source": [
    "plot_spectrum(lamswp0=lamswp_gmrf, data_rdit=data_gmrfswp_rdit);"
   ]
  },
  {
   "cell_type": "markdown",
   "id": "71fa75b6-9f88-4eb5-9bd1-b04383754946",
   "metadata": {
    "tags": []
   },
   "source": [
    "## Gradient Descent\n",
    "\n",
    "Next step, we are going to optimize the device to our goal. Assuming we want the peaks of the resonance at the wavelength $1537~nm$, so we can implement the gradient descent by minimizing the transmission efficiency."
   ]
  },
  {
   "cell_type": "code",
   "execution_count": 13,
   "id": "518380fa-44e2-406e-b98d-e9ec1a60adf0",
   "metadata": {},
   "outputs": [],
   "source": [
    "# ================== Basic Parameters ==================\n",
    "um = 1\n",
    "nm = 1e-3 * um\n",
    "degrees = np.pi / 180\n",
    "lam_opt = np.array([1537 * nm])\n",
    "\n",
    "theta = 0 * degrees\n",
    "phi = 0 * degrees\n",
    "\n",
    "pte = 1\n",
    "ptm = 0\n",
    "\n",
    "# device parameters\n",
    "n_SiO = 1.4496\n",
    "n_SiN = 1.9360\n",
    "n_fs = 1.5100\n",
    "\n",
    "a = 1150 * nm\n",
    "b = a * np.sqrt(3)\n",
    "\n",
    "h1 = torch.tensor(230 * nm, dtype=torch.float32)\n",
    "h2 = torch.tensor([345 * nm], dtype=torch.float32)\n",
    "\n",
    "t1 = torch.tensor([[a/2, -a*np.sqrt(3)/2]], dtype=torch.float32)\n",
    "t2 = torch.tensor([[a/2, a*np.sqrt(3)/2]], dtype=torch.float32)\n",
    "\n",
    "material_sio = create_material(name='SiO', permittivity=n_SiO**2)\n",
    "material_sin = create_material(name='SiN', permittivity=n_SiN**2)\n",
    "material_fs = create_material(name='FusedSilica', permittivity=n_fs**2)\n",
    "\n",
    "r_dit_order = 10\n",
    "kdims = 9\n",
    "    \n",
    "# ================== Basic Parameters ==================\n",
    "\n",
    "# ================== Solver Intialization ==================\n",
    "\n",
    "gmrf_sim_rdit = SolverConstructer.creat_sovler(\n",
    "    algorithm=Algorithm.RDIT,\n",
    "    precision=Precision.DOUBLE,\n",
    "    rdim = [512, 512],\n",
    "    kdim = [kdims, kdims],\n",
    "    lam0 = lam_opt,\n",
    "    lengthunit = 'um',\n",
    "    materiallist = [material_sio, material_sin, material_fs],\n",
    "    t1 = t1,\n",
    "    t2 = t2,\n",
    "    is_use_FFF = True)\n",
    "\n",
    "gmrf_sim_rdit.set_rdit_order(r_dit_order)\n",
    "\n",
    "gmrf_sim_rdit.update_trn_material(trn_material='FusedSilica')\n",
    "\n",
    "gmrf_sim_rdit.add_layer(material_name='SiO',\n",
    "              thickness=h1,\n",
    "              is_homogeneous=False,\n",
    "              is_optimize=True)\n",
    "\n",
    "gmrf_sim_rdit.add_layer(material_name='SiN',\n",
    "              thickness=h2,\n",
    "              is_homogeneous=True,\n",
    "              is_optimize=False)\n",
    "\n",
    "src_rdit = gmrf_sim_rdit.add_source(theta = 0 * degrees,\n",
    "                 phi = 0 * degrees,\n",
    "                 pte = 1,\n",
    "                 ptm = 0)\n",
    "\n",
    "# ================== Solver Intialization =================="
   ]
  },
  {
   "cell_type": "code",
   "execution_count": 14,
   "id": "6e1f3ff6-71b1-47a6-af35-32fcf8312003",
   "metadata": {},
   "outputs": [],
   "source": [
    "def objective_GMRF(dev, src, radius):\n",
    "    a = 1150 * nm\n",
    "    b = a * np.sqrt(3)\n",
    "\n",
    "    mask = make_GMRF_hexagonal_mask(radius, dev.XO, dev.YO, a, b, eta=0.5, beta=100, N=2)\n",
    "\n",
    "    dev.update_er_with_mask(mask=mask, layer_index=0, set_grad = False)\n",
    "    \n",
    "    data = dev.solve(src)\n",
    "    \n",
    "    return data['TRN'][0] * 1e2 # return transimission efficiency as FoM to be minimized"
   ]
  },
  {
   "cell_type": "code",
   "execution_count": 16,
   "id": "3143da82-bfcc-4723-bf59-6248382c8fa0",
   "metadata": {},
   "outputs": [
    {
     "name": "stderr",
     "output_type": "stream",
     "text": [
      "100%|██████████| 200/200 [15:48<00:00,  4.74s/it]"
     ]
    },
    {
     "name": "stdout",
     "output_type": "stream",
     "text": [
      "RDIT optimization time = 948656.3808330102 ms\n"
     ]
    },
    {
     "name": "stderr",
     "output_type": "stream",
     "text": [
      "\n"
     ]
    }
   ],
   "source": [
    "r2_rdit_opt = torch.tensor(400 * nm)\n",
    "r2_rdit_opt.requires_grad = True\n",
    "\n",
    "# learning rate\n",
    "lr_rate_rdit = 5e-3\n",
    "\n",
    "# Define the optimizer\n",
    "optimizer_rdit = torch.optim.Adam([r2_rdit_opt,], lr=lr_rate_rdit, eps=1e-2)\n",
    "\n",
    "# Define the scheduler\n",
    "scheduler_rdit = torch.optim.lr_scheduler.MultiStepLR(optimizer_rdit, milestones=[50, 100, 150], gamma=0.9)\n",
    "\n",
    "# Number of epochs in the optimization\n",
    "EPOCH = 200\n",
    "\n",
    "# ======================= RDIT Optimization =========================\n",
    "\n",
    "t1 = time.perf_counter()\n",
    "\n",
    "for epoch in trange(EPOCH):\n",
    "    tic = time.time()\n",
    "    optimizer_rdit.zero_grad()\n",
    "    loss_rdit = objective_GMRF(gmrf_sim_rdit, src_rdit, r2_rdit_opt)\n",
    "    loss_rdit.backward()\n",
    "    \n",
    "    t_elapsed = time.time() - tic\n",
    "    optimizer_rdit.step()\n",
    "    scheduler_rdit.step()\n",
    "    \n",
    "t2 = time.perf_counter()\n",
    "print(f\"RDIT optimization time = {(t2 - t1) * 1000} ms\")\n",
    "\n",
    "# ======================= RDIT Optimization ========================="
   ]
  },
  {
   "cell_type": "code",
   "execution_count": 17,
   "id": "a6388f00-c939-4735-a907-d04b71464662",
   "metadata": {},
   "outputs": [
    {
     "name": "stdout",
     "output_type": "stream",
     "text": [
      "The optimal radius (RDIT) is 0.44859203696250916\n"
     ]
    }
   ],
   "source": [
    "print(f\"The optimal radius (RDIT) is {r2_rdit_opt}\")"
   ]
  },
  {
   "cell_type": "code",
   "execution_count": 18,
   "id": "31f07361-904f-4e8d-8103-272df19ba1ea",
   "metadata": {},
   "outputs": [],
   "source": [
    "# Source Parameter\n",
    "nlam = 200\n",
    "lam1 = 1530 * nm\n",
    "lam2 = 1550 * nm\n",
    "lamswp_gmrf = np.linspace(lam1, lam2, nlam, endpoint=True)\n",
    "\n",
    "# Simulate for the optimized the performance \n",
    "data_optimized_rdit = GMRF_simulator(r2_rdit_opt.detach(), lamswp_gmrf, rdit_orders=10, kdims = 9, is_showinfo = True)"
   ]
  },
  {
   "cell_type": "code",
   "execution_count": 19,
   "id": "2cff7963-2ae4-4ddf-b645-d7493993f6f6",
   "metadata": {},
   "outputs": [
    {
     "data": {
      "image/png": "[encoded data removed]",
      "text/plain": [
       "<Figure size 400x300 with 1 Axes>"
      ]
     },
     "metadata": {},
     "output_type": "display_data"
    }
   ],
   "source": [
    "plot_spectrum(lamswp0=lamswp_gmrf, data_rdit=data_optimized_rdit);"
   ]
  },
  {
   "cell_type": "code",
   "execution_count": 20,
   "id": "df70907b-a53d-405d-b7d3-5183bb1f41cb",
   "metadata": {},
   "outputs": [],
   "source": [
    "def plot_spectrum_compare_opt(lamswp0, data_org, data_opt):\n",
    "    fig_size = (3,2)\n",
    "    markeverypoints = 4\n",
    "    nlam = len(lamswp0)\n",
    "    nref_gmrf_org = np.zeros(nlam)\n",
    "    ntrn_gmrf_org = np.zeros(nlam)\n",
    "    ncon_gmrf_org = np.zeros(nlam)\n",
    "\n",
    "    nref_gmrf_opt = np.zeros(nlam)\n",
    "    ntrn_gmrf_opt = np.zeros(nlam)\n",
    "    ncon_gmrf_opt = np.zeros(nlam)\n",
    "\n",
    "    for ilam, elem in enumerate(lamswp0):\n",
    "\n",
    "        nref_gmrf_org[ilam] = data_org['REF'][ilam].detach().clone()\n",
    "        ntrn_gmrf_org[ilam] = data_org['TRN'][ilam].detach().clone()\n",
    "        ncon_gmrf_org[ilam] = nref_gmrf_org[ilam] + ntrn_gmrf_org[ilam]\n",
    "\n",
    "        nref_gmrf_opt[ilam] = data_opt['REF'][ilam].detach().clone()\n",
    "        ntrn_gmrf_opt[ilam] = data_opt['TRN'][ilam].detach().clone()\n",
    "        ncon_gmrf_opt[ilam] = nref_gmrf_opt[ilam] + ntrn_gmrf_opt[ilam]\n",
    "\n",
    "    plt.rcParams['font.sans-serif'] = ['Times New Roman']\n",
    "    plt.rcParams.update({'font.size': 10});\n",
    "    # plt.rcParams[\"figure.dpi\"] = 300\n",
    "    fig_gmrf, ax_gmrf = plt.subplots(figsize=fig_size);\n",
    "    ax_gmrf.set_position = ([0, 0, 0.8, 1])\n",
    "    ax_gmrf.set_xlim(lamswp0[0], lamswp0[-1]);\n",
    "    ax_gmrf.plot(lamswp0, nref_gmrf_org, color='red', marker='', linestyle='-.', linewidth=1, markersize=4, markevery=markeverypoints, label='R-Init');\n",
    "    ax_gmrf.plot(lamswp0, ntrn_gmrf_org, color='green', marker='', linestyle='-', linewidth=1, markersize=8, markevery=markeverypoints, label='T-Init');\n",
    "    # ax_gmrf.plot(lamswp0, ncon_gmrf_rcwa, color='brown', marker='', linestyle=':', linewidth=2, markersize=8, label='Con-RCWA')\n",
    "\n",
    "    ax_gmrf.plot(lamswp0, nref_gmrf_opt, color='blue', marker='x', linestyle='-', linewidth=1, markersize=4, markevery=markeverypoints, label='R-Opt');\n",
    "    ax_gmrf.plot(lamswp0, ntrn_gmrf_opt, color='m', marker='', linestyle='--', linewidth=1, markersize=4, markevery=markeverypoints, label='T-Opt');\n",
    "    # ax_gmrf.plot(lamswp0, ncon_gmrf_rdit, color='black', marker='1', linestyle='', linewidth=2, markersize=4, label='Con-RDIT')\n",
    "\n",
    "    ax_gmrf.legend(loc='center left', bbox_to_anchor=(0.6,0.5), frameon=False);\n",
    "    # ax_gmrf.legend(loc='center right');\n",
    "    ax_gmrf.set_xlabel('Wavelength [um]');\n",
    "    ax_gmrf.set_ylabel('T/R');\n",
    "    ax_gmrf.set_ylim([0,1.0]);\n",
    "    # ax_gmrf.grid('on');\n",
    "    \n",
    "    return fig_gmrf, ax_gmrf"
   ]
  },
  {
   "cell_type": "code",
   "execution_count": 21,
   "id": "d2164c14-311c-4ad7-8337-aceeb89a6c40",
   "metadata": {},
   "outputs": [
    {
     "data": {
      "image/png": "[encoded data removed]",
      "text/plain": [
       "<Figure size 300x200 with 1 Axes>"
      ]
     },
     "metadata": {},
     "output_type": "display_data"
    }
   ],
   "source": [
    "plot_spectrum_compare_opt(lamswp0=lamswp_gmrf, data_org=data_gmrfswp_rdit, data_opt=data_optimized_rdit);"
   ]
  }
 ],
 "metadata": {
  "kernelspec": {
   "display_name": "Python 3",
   "language": "python",
   "name": "python3"
  },
  "language_info": {
   "codemirror_mode": {
    "name": "ipython",
    "version": 3
   },
   "file_extension": ".py",
   "mimetype": "text/x-python",
   "name": "python",
   "nbconvert_exporter": "python",
   "pygments_lexer": "ipython3",
   "version": "3.10.11"
  }
 },
 "nbformat": 4,
 "nbformat_minor": 5
}
