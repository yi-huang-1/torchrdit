{
 "cells": [
  {
   "cell_type": "code",
   "execution_count": 15,
   "id": "510ad615",
   "metadata": {},
   "outputs": [],
   "source": [
    "import torchrdit\n",
    "import numpy as np\n",
    "import matplotlib.pyplot as plt\n",
    "import torch\n",
    "import time\n",
    "\n",
    "from torchrdit.solver import RCWASolver, RDITSolver\n",
    "from torchrdit.utils import operator_proj, create_material\n",
    "from tqdm import tqdm, trange"
   ]
  },
  {
   "cell_type": "code",
   "execution_count": 16,
   "id": "0f4e007c-3d07-4c07-967f-1bf816310367",
   "metadata": {},
   "outputs": [],
   "source": [
    "# build hexagonal unit cell\n",
    "def make_GMRF_hexagonal_mask(radius_var, sim, eta=0.5, beta=100,N=2):\n",
    "    rsq1 = sim.XO ** 2 + (sim.YO - b / 2) ** 2\n",
    "    m1 = (rsq1 - (radius_var) ** 2)+0.5\n",
    "    m1 = operator_proj(m1, eta=eta, beta = beta, num_proj=N)\n",
    "    rsq2 = sim.XO ** 2 + (sim.YO + b / 2) ** 2\n",
    "    m2 = (rsq2 - (radius_var) ** 2)+0.5\n",
    "    m2 = operator_proj(m2, eta=eta, beta = beta, num_proj=N)\n",
    "    rsq3 = (sim.XO - a / 2) ** 2 + sim.YO ** 2\n",
    "    m3 = (rsq3 - (radius_var) ** 2)+0.5\n",
    "    m3 = operator_proj(m3, eta=eta, beta = beta, num_proj=N)\n",
    "    rsq4 = (sim.XO + a / 2) ** 2 + sim.YO ** 2\n",
    "    m4 = (rsq4 - (radius_var) ** 2)+0.5\n",
    "    m4 = operator_proj(m4, eta=eta, beta = beta, num_proj=N)\n",
    "\n",
    "    mask = m1 + m2 + m3 + m4 - 3\n",
    "    return mask"
   ]
  },
  {
   "cell_type": "code",
   "execution_count": 17,
   "id": "eb1f6a31-8fcc-4168-9e2b-b40a9bf00db6",
   "metadata": {},
   "outputs": [],
   "source": [
    "def GMRF_simulator(radius, lams, rdit_orders = 10, kdims = 9,is_showinfo = False):\n",
    "    # units\n",
    "    um = 1\n",
    "    nm = 1e-3 * um\n",
    "    degrees = np.pi / 180\n",
    "\n",
    "    theta = 0 * degrees\n",
    "    phi = 0 * degrees\n",
    "\n",
    "    pte = 1\n",
    "    ptm = 0\n",
    "\n",
    "    # device parameters\n",
    "    n_SiO = 1.4496\n",
    "    n_SiN = 1.9360\n",
    "    n_fs = 1.5100\n",
    "\n",
    "    a = 1150 * nm\n",
    "    b = a * np.sqrt(3)\n",
    "\n",
    "\n",
    "    h1 = torch.tensor(230 * nm, dtype=torch.float32)\n",
    "    h2 = torch.tensor([345 * nm], dtype=torch.float32)\n",
    "\n",
    "    t1 = torch.tensor([[a/2, -a*np.sqrt(3)/2]], dtype=torch.float32)\n",
    "    t2 = torch.tensor([[a/2, a*np.sqrt(3)/2]], dtype=torch.float32)\n",
    "\n",
    "    material_sio = create_material(name='SiO', permittivity=n_SiO**2)\n",
    "    material_sin = create_material(name='SiN', permittivity=n_SiN**2)\n",
    "    material_fs = create_material(name='FusedSilica', permittivity=n_fs**2)\n",
    "\n",
    "    gmrf_sim = RDITSolver(\n",
    "                rdim = [512, 512],\n",
    "                kdim = [kdims, kdims],\n",
    "                lam0 = lams,\n",
    "                lengthunit = 'um',\n",
    "                t1 = t1,\n",
    "                t2 = t2)\n",
    "    \n",
    "    gmrf_sim.set_rdit_order(rdit_orders)\n",
    "    \n",
    "    gmrf_sim.update_trn_material(trn_material=material_fs)\n",
    "\n",
    "    gmrf_sim.add_layer(material_name=material_sio,\n",
    "                  thickness=h1,\n",
    "                  is_homogeneous=False,\n",
    "                  is_optimize=True)\n",
    "\n",
    "    gmrf_sim.add_layer(material_name=material_sin,\n",
    "                  thickness=h2,\n",
    "                  is_homogeneous=True,\n",
    "                  is_optimize=False)\n",
    "\n",
    "    src = gmrf_sim.add_source(theta = 0 * degrees,\n",
    "                     phi = 0 * degrees,\n",
    "                     pte = 1,\n",
    "                     ptm = 0)\n",
    "\n",
    "    mask = make_GMRF_hexagonal_mask(radius, gmrf_sim, eta=0.5, beta=100,N=2)\n",
    "    gmrf_sim.update_er_with_mask(mask=mask, layer_index=0, set_grad = False)\n",
    "\n",
    "    data = gmrf_sim.solve(src)# Example 1 - GMRF with hexagonal unit cells\n",
    "    \n",
    "    return data"
   ]
  },
  {
   "cell_type": "markdown",
   "id": "badf05b2-cca3-4464-861d-bc57df40fa0b",
   "metadata": {},
   "source": [
    "# Example 1"
   ]
  },
  {
   "cell_type": "code",
   "execution_count": 18,
   "id": "2698fb79-fd85-4b90-a282-479909f573c3",
   "metadata": {},
   "outputs": [],
   "source": [
    "# units\n",
    "um = 1\n",
    "nm = 1e-3 * um\n",
    "\n",
    "a = 1150 * nm\n",
    "b = a * np.sqrt(3)\n",
    "\n",
    "r0_rdit = torch.tensor(400 * nm)\n",
    "r0_rdit.requires_grad = True\n",
    "lam00 = np.array([1540 * nm])\n",
    "\n",
    "data_rdit = GMRF_simulator(r0_rdit, lam00, rdit_orders=10, kdims = 15, is_showinfo = False)"
   ]
  },
  {
   "cell_type": "code",
   "execution_count": 19,
   "id": "5fc385f1-2686-4fb6-a921-b5b173e6c582",
   "metadata": {},
   "outputs": [
    {
     "name": "stdout",
     "output_type": "stream",
     "text": [
      "The T efficiency (R-DIT) is 92.66121943244035%\n",
      "The R efficiency (R-DIT) is 7.338780567552153%\n"
     ]
    }
   ],
   "source": [
    "print(f\"The T efficiency (R-DIT) is {data_rdit['TRN'][0] * 100}%\")\n",
    "print(f\"The R efficiency (R-DIT) is {data_rdit['REF'][0] * 100}%\")"
   ]
  },
  {
   "cell_type": "code",
   "execution_count": 20,
   "id": "b205e439-ce21-4bde-9671-e8e5fa37ff90",
   "metadata": {},
   "outputs": [],
   "source": [
    "torch.sum(data_rdit['TRN'][0]).backward()"
   ]
  },
  {
   "cell_type": "code",
   "execution_count": 21,
   "id": "fe34ae1b-61a8-4f29-a4a5-14b22f989c22",
   "metadata": {},
   "outputs": [
    {
     "name": "stdout",
     "output_type": "stream",
     "text": [
      "The derivative of the sum of the transmission efficency with respect to the radius is:\n",
      "\tR-DIT:\t -7.4619221687316895\n"
     ]
    }
   ],
   "source": [
    "print(f\"The derivative of the sum of the transmission efficency with respect to the radius is:\")\n",
    "print(f\"\\tR-DIT:\\t {r0_rdit.grad}\")"
   ]
  },
  {
   "cell_type": "markdown",
   "id": "f5f08e06-baad-4026-ab9d-39d7312c46da",
   "metadata": {
    "tags": []
   },
   "source": [
    "## Frequency Response\n",
    "\n",
    "This section shows the spectrum of the GMRF by using RCWA and R-DIT."
   ]
  },
  {
   "cell_type": "code",
   "execution_count": 22,
   "id": "2e09c726-7ff5-45bd-9d60-516af53ab04b",
   "metadata": {},
   "outputs": [],
   "source": [
    "def plot_spectrum(lamswp0, data_rdit):\n",
    "    fig_size = (4,3)\n",
    "    markeverypoints = 4\n",
    "    nlam = len(lamswp0)\n",
    "    nref_gmrf_rdit = np.zeros(nlam)\n",
    "    ntrn_gmrf_rdit = np.zeros(nlam)\n",
    "    ncon_gmrf_rdit = np.zeros(nlam)\n",
    "\n",
    "    for ilam, elem in enumerate(lamswp0):\n",
    "        nref_gmrf_rdit[ilam] = data_rdit['REF'][ilam].detach().clone()\n",
    "        ntrn_gmrf_rdit[ilam] = data_rdit['TRN'][ilam].detach().clone()\n",
    "        ncon_gmrf_rdit[ilam] = nref_gmrf_rdit[ilam] + ntrn_gmrf_rdit[ilam]\n",
    "\n",
    "    # plt.rcParams['font.sans-serif'] = ['Times New Roman']\n",
    "    # plt.rcParams.update({'font.size': 10});\n",
    "    fig_gmrf, ax_gmrf = plt.subplots(figsize=fig_size);\n",
    "    ax_gmrf.set_xlim(lamswp0[0], lamswp0[-1]);\n",
    "\n",
    "    ax_gmrf.plot(lamswp0, nref_gmrf_rdit, color='blue', marker='+', linestyle='-', linewidth=1, markersize=4, markevery=markeverypoints, label='Ref-RDIT');\n",
    "    ax_gmrf.plot(lamswp0, ntrn_gmrf_rdit, color='m', marker='x', linestyle='-', linewidth=1, markersize=4, markevery=markeverypoints, label='Trn-RDIT');\n",
    "\n",
    "    ax_gmrf.legend();\n",
    "    ax_gmrf.set_xlabel('Wavelength (um)');\n",
    "    ax_gmrf.set_ylabel('Transmission/Reflection Efficiency');\n",
    "    ax_gmrf.set_ylim([0,1.0]);\n",
    "    ax_gmrf.grid('on');\n",
    "    \n",
    "    return fig_gmrf, ax_gmrf "
   ]
  },
  {
   "cell_type": "code",
   "execution_count": 23,
   "id": "13f206e0-bee8-43bd-b2ee-256e1948d471",
   "metadata": {},
   "outputs": [],
   "source": [
    "r1_rdit = torch.tensor(400 * nm)\n",
    "r1_rdit.requires_grad = False\n",
    "\n",
    "# Source Parameter\n",
    "nlam = 200\n",
    "lam1 = 1530 * nm\n",
    "lam2 = 1550 * nm\n",
    "lamswp_gmrf = np.linspace(lam1, lam2, nlam, endpoint=True)\n",
    "\n",
    "data_gmrfswp_rdit = GMRF_simulator(r1_rdit, lamswp_gmrf, rdit_orders=10, kdims = 11, is_showinfo = False)"
   ]
  },
  {
   "cell_type": "code",
   "execution_count": 10,
   "id": "a31cead5-4288-428e-8a5b-425d743be38a",
   "metadata": {},
   "outputs": [
    {
     "name": "stderr",
     "output_type": "stream",
     "text": [
      "findfont: Generic family 'sans-serif' not found because none of the following families were found: Times New Roman\n",
      "findfont: Generic family 'sans-serif' not found because none of the following families were found: Times New Roman\n",
      "findfont: Generic family 'sans-serif' not found because none of the following families were found: Times New Roman\n",
      "findfont: Generic family 'sans-serif' not found because none of the following families were found: Times New Roman\n",
      "findfont: Generic family 'sans-serif' not found because none of the following families were found: Times New Roman\n",
      "findfont: Generic family 'sans-serif' not found because none of the following families were found: Times New Roman\n",
      "findfont: Generic family 'sans-serif' not found because none of the following families were found: Times New Roman\n",
      "findfont: Generic family 'sans-serif' not found because none of the following families were found: Times New Roman\n",
      "findfont: Generic family 'sans-serif' not found because none of the following families were found: Times New Roman\n",
      "findfont: Generic family 'sans-serif' not found because none of the following families were found: Times New Roman\n",
      "findfont: Generic family 'sans-serif' not found because none of the following families were found: Times New Roman\n",
      "findfont: Generic family 'sans-serif' not found because none of the following families were found: Times New Roman\n",
      "findfont: Generic family 'sans-serif' not found because none of the following families were found: Times New Roman\n",
      "findfont: Generic family 'sans-serif' not found because none of the following families were found: Times New Roman\n",
      "findfont: Generic family 'sans-serif' not found because none of the following families were found: Times New Roman\n",
      "findfont: Generic family 'sans-serif' not found because none of the following families were found: Times New Roman\n",
      "findfont: Generic family 'sans-serif' not found because none of the following families were found: Times New Roman\n",
      "findfont: Generic family 'sans-serif' not found because none of the following families were found: Times New Roman\n",
      "findfont: Generic family 'sans-serif' not found because none of the following families were found: Times New Roman\n",
      "findfont: Generic family 'sans-serif' not found because none of the following families were found: Times New Roman\n",
      "findfont: Generic family 'sans-serif' not found because none of the following families were found: Times New Roman\n",
      "findfont: Generic family 'sans-serif' not found because none of the following families were found: Times New Roman\n",
      "findfont: Generic family 'sans-serif' not found because none of the following families were found: Times New Roman\n",
      "findfont: Generic family 'sans-serif' not found because none of the following families were found: Times New Roman\n",
      "findfont: Generic family 'sans-serif' not found because none of the following families were found: Times New Roman\n",
      "findfont: Generic family 'sans-serif' not found because none of the following families were found: Times New Roman\n",
      "findfont: Generic family 'sans-serif' not found because none of the following families were found: Times New Roman\n",
      "findfont: Generic family 'sans-serif' not found because none of the following families were found: Times New Roman\n",
      "findfont: Generic family 'sans-serif' not found because none of the following families were found: Times New Roman\n",
      "findfont: Generic family 'sans-serif' not found because none of the following families were found: Times New Roman\n"
     ]
    },
    {
     "name": "stderr",
     "output_type": "stream",
     "text": [
      "findfont: Generic family 'sans-serif' not found because none of the following families were found: Times New Roman\n",
      "findfont: Generic family 'sans-serif' not found because none of the following families were found: Times New Roman\n",
      "findfont: Generic family 'sans-serif' not found because none of the following families were found: Times New Roman\n",
      "findfont: Generic family 'sans-serif' not found because none of the following families were found: Times New Roman\n",
      "findfont: Generic family 'sans-serif' not found because none of the following families were found: Times New Roman\n",
      "findfont: Generic family 'sans-serif' not found because none of the following families were found: Times New Roman\n",
      "findfont: Generic family 'sans-serif' not found because none of the following families were found: Times New Roman\n",
      "findfont: Generic family 'sans-serif' not found because none of the following families were found: Times New Roman\n",
      "findfont: Generic family 'sans-serif' not found because none of the following families were found: Times New Roman\n",
      "findfont: Generic family 'sans-serif' not found because none of the following families were found: Times New Roman\n",
      "findfont: Generic family 'sans-serif' not found because none of the following families were found: Times New Roman\n",
      "findfont: Generic family 'sans-serif' not found because none of the following families were found: Times New Roman\n",
      "findfont: Generic family 'sans-serif' not found because none of the following families were found: Times New Roman\n",
      "findfont: Generic family 'sans-serif' not found because none of the following families were found: Times New Roman\n",
      "findfont: Generic family 'sans-serif' not found because none of the following families were found: Times New Roman\n",
      "findfont: Generic family 'sans-serif' not found because none of the following families were found: Times New Roman\n",
      "findfont: Generic family 'sans-serif' not found because none of the following families were found: Times New Roman\n",
      "findfont: Generic family 'sans-serif' not found because none of the following families were found: Times New Roman\n",
      "findfont: Generic family 'sans-serif' not found because none of the following families were found: Times New Roman\n",
      "findfont: Generic family 'sans-serif' not found because none of the following families were found: Times New Roman\n",
      "findfont: Generic family 'sans-serif' not found because none of the following families were found: Times New Roman\n",
      "findfont: Generic family 'sans-serif' not found because none of the following families were found: Times New Roman\n",
      "findfont: Generic family 'sans-serif' not found because none of the following families were found: Times New Roman\n",
      "findfont: Generic family 'sans-serif' not found because none of the following families were found: Times New Roman\n",
      "findfont: Generic family 'sans-serif' not found because none of the following families were found: Times New Roman\n",
      "findfont: Generic family 'sans-serif' not found because none of the following families were found: Times New Roman\n",
      "findfont: Generic family 'sans-serif' not found because none of the following families were found: Times New Roman\n",
      "findfont: Generic family 'sans-serif' not found because none of the following families were found: Times New Roman\n",
      "findfont: Generic family 'sans-serif' not found because none of the following families were found: Times New Roman\n",
      "findfont: Generic family 'sans-serif' not found because none of the following families were found: Times New Roman\n",
      "findfont: Generic family 'sans-serif' not found because none of the following families were found: Times New Roman\n",
      "findfont: Generic family 'sans-serif' not found because none of the following families were found: Times New Roman\n",
      "findfont: Generic family 'sans-serif' not found because none of the following families were found: Times New Roman\n",
      "findfont: Generic family 'sans-serif' not found because none of the following families were found: Times New Roman\n",
      "findfont: Generic family 'sans-serif' not found because none of the following families were found: Times New Roman\n",
      "findfont: Generic family 'sans-serif' not found because none of the following families were found: Times New Roman\n",
      "findfont: Generic family 'sans-serif' not found because none of the following families were found: Times New Roman\n",
      "findfont: Generic family 'sans-serif' not found because none of the following families were found: Times New Roman\n",
      "findfont: Generic family 'sans-serif' not found because none of the following families were found: Times New Roman\n",
      "findfont: Generic family 'sans-serif' not found because none of the following families were found: Times New Roman\n",
      "findfont: Generic family 'sans-serif' not found because none of the following families were found: Times New Roman\n",
      "findfont: Generic family 'sans-serif' not found because none of the following families were found: Times New Roman\n",
      "findfont: Generic family 'sans-serif' not found because none of the following families were found: Times New Roman\n",
      "findfont: Generic family 'sans-serif' not found because none of the following families were found: Times New Roman\n",
      "findfont: Generic family 'sans-serif' not found because none of the following families were found: Times New Roman\n",
      "findfont: Generic family 'sans-serif' not found because none of the following families were found: Times New Roman\n",
      "findfont: Generic family 'sans-serif' not found because none of the following families were found: Times New Roman\n",
      "findfont: Generic family 'sans-serif' not found because none of the following families were found: Times New Roman\n",
      "findfont: Generic family 'sans-serif' not found because none of the following families were found: Times New Roman\n",
      "findfont: Generic family 'sans-serif' not found because none of the following families were found: Times New Roman\n",
      "findfont: Generic family 'sans-serif' not found because none of the following families were found: Times New Roman\n",
      "findfont: Generic family 'sans-serif' not found because none of the following families were found: Times New Roman\n",
      "findfont: Generic family 'sans-serif' not found because none of the following families were found: Times New Roman\n",
      "findfont: Generic family 'sans-serif' not found because none of the following families were found: Times New Roman\n",
      "findfont: Generic family 'sans-serif' not found because none of the following families were found: Times New Roman\n",
      "findfont: Generic family 'sans-serif' not found because none of the following families were found: Times New Roman\n",
      "findfont: Generic family 'sans-serif' not found because none of the following families were found: Times New Roman\n",
      "findfont: Generic family 'sans-serif' not found because none of the following families were found: Times New Roman\n",
      "findfont: Generic family 'sans-serif' not found because none of the following families were found: Times New Roman\n",
      "findfont: Generic family 'sans-serif' not found because none of the following families were found: Times New Roman\n",
      "findfont: Generic family 'sans-serif' not found because none of the following families were found: Times New Roman\n",
      "findfont: Generic family 'sans-serif' not found because none of the following families were found: Times New Roman\n",
      "findfont: Generic family 'sans-serif' not found because none of the following families were found: Times New Roman\n",
      "findfont: Generic family 'sans-serif' not found because none of the following families were found: Times New Roman\n",
      "findfont: Generic family 'sans-serif' not found because none of the following families were found: Times New Roman\n",
      "findfont: Generic family 'sans-serif' not found because none of the following families were found: Times New Roman\n",
      "findfont: Generic family 'sans-serif' not found because none of the following families were found: Times New Roman\n",
      "findfont: Generic family 'sans-serif' not found because none of the following families were found: Times New Roman\n"
     ]
    },
    {
     "data": {
      "image/png": "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",
      "text/plain": [
       "<Figure size 400x300 with 1 Axes>"
      ]
     },
     "metadata": {},
     "output_type": "display_data"
    }
   ],
   "source": [
    "plot_spectrum(lamswp0=lamswp_gmrf, data_rdit=data_gmrfswp_rdit);"
   ]
  },
  {
   "cell_type": "markdown",
   "id": "71fa75b6-9f88-4eb5-9bd1-b04383754946",
   "metadata": {
    "tags": []
   },
   "source": [
    "## Gradient Descent\n",
    "\n",
    "Next step, we are going to optimize the device to our goal. Assuming we want the peaks of the resonance at the wavelength $1532~nm$, so we can implement the gradient descent by minimizing the transmission efficiency."
   ]
  },
  {
   "cell_type": "code",
   "execution_count": 11,
   "id": "518380fa-44e2-406e-b98d-e9ec1a60adf0",
   "metadata": {},
   "outputs": [],
   "source": [
    "# ================== Basic Parameters ==================\n",
    "um = 1\n",
    "nm = 1e-3 * um\n",
    "degrees = np.pi / 180\n",
    "lam_opt = np.array([1537 * nm])\n",
    "\n",
    "theta = 0 * degrees\n",
    "phi = 0 * degrees\n",
    "\n",
    "pte = 1\n",
    "ptm = 0\n",
    "\n",
    "# device parameters\n",
    "n_SiO = 1.4496\n",
    "n_SiN = 1.9360\n",
    "n_fs = 1.5100\n",
    "\n",
    "a = 1150 * nm\n",
    "b = a * np.sqrt(3)\n",
    "\n",
    "h1 = torch.tensor(230 * nm, dtype=torch.float32)\n",
    "h2 = torch.tensor([345 * nm], dtype=torch.float32)\n",
    "\n",
    "t1 = torch.tensor([[a/2, -a*np.sqrt(3)/2]], dtype=torch.float32)\n",
    "t2 = torch.tensor([[a/2, a*np.sqrt(3)/2]], dtype=torch.float32)\n",
    "\n",
    "material_sio = create_material(name='SiO', permittivity=n_SiO**2)\n",
    "material_sin = create_material(name='SiN', permittivity=n_SiN**2)\n",
    "material_fs = create_material(name='FusedSilica', permittivity=n_fs**2)\n",
    "\n",
    "r_dit_order = 10\n",
    "kdims = 9\n",
    "    \n",
    "# ================== Basic Parameters ==================\n",
    "\n",
    "# ================== Solver Intialization ==================\n",
    "\n",
    "gmrf_sim_rdit = RDITSolver(\n",
    "            rdim = [512, 512],\n",
    "            kdim = [kdims, kdims],\n",
    "            lam0 = lam_opt,\n",
    "            lengthunit = 'um',\n",
    "            materiallist = [material_sio, material_sin, material_fs],\n",
    "            t1 = t1,\n",
    "            t2 = t2)\n",
    "\n",
    "gmrf_sim_rdit.set_rdit_order(r_dit_order)\n",
    "\n",
    "gmrf_sim_rdit.update_trn_material(trn_material='FusedSilica')\n",
    "\n",
    "gmrf_sim_rdit.add_layer(material_name='SiO',\n",
    "              thickness=h1,\n",
    "              is_homogeneous=False,\n",
    "              is_optimize=True)\n",
    "\n",
    "gmrf_sim_rdit.add_layer(material_name='SiN',\n",
    "              thickness=h2,\n",
    "              is_homogeneous=True,\n",
    "              is_optimize=False)\n",
    "\n",
    "src_rdit = gmrf_sim_rdit.add_source(theta = 0 * degrees,\n",
    "                 phi = 0 * degrees,\n",
    "                 pte = 1,\n",
    "                 ptm = 0)\n",
    "\n",
    "# ================== Solver Intialization =================="
   ]
  },
  {
   "cell_type": "code",
   "execution_count": 12,
   "id": "6e1f3ff6-71b1-47a6-af35-32fcf8312003",
   "metadata": {},
   "outputs": [],
   "source": [
    "def objective_GMRF(dev, src, radius):\n",
    "\n",
    "    mask = make_GMRF_hexagonal_mask(radius, dev, eta=0.5, beta=100, N=2)\n",
    "\n",
    "    dev.update_er_with_mask(mask=mask, layer_index=0, set_grad = False)\n",
    "    \n",
    "    data = dev.solve(src)\n",
    "    \n",
    "    return data['TRN'][0] * 1e2 # return transimission efficiency as FoM to be minimized"
   ]
  },
  {
   "cell_type": "code",
   "execution_count": 13,
   "id": "5f50783a-58ca-4c77-981e-b721ceb5f608",
   "metadata": {},
   "outputs": [],
   "source": [
    "grads_rdit = {}\n",
    "\n",
    "def save_grad(name):\n",
    "    def hook(grad):\n",
    "        grads[name] = grad\n",
    "    return hook"
   ]
  },
  {
   "cell_type": "code",
   "execution_count": 14,
   "id": "3143da82-bfcc-4723-bf59-6248382c8fa0",
   "metadata": {},
   "outputs": [
    {
     "name": "stderr",
     "output_type": "stream",
     "text": [
<<<<<<< HEAD
      " 28%|██▊       | 57/200 [00:11<00:30,  4.76it/s]\n"
     ]
    },
    {
     "ename": "KeyboardInterrupt",
     "evalue": "",
     "output_type": "error",
     "traceback": [
      "\u001b[0;31m---------------------------------------------------------------------------\u001b[0m",
      "\u001b[0;31mKeyboardInterrupt\u001b[0m                         Traceback (most recent call last)",
      "\u001b[1;32m/home/zz2556/code/torchrdit/Demo-03.ipynb Cell 17\u001b[0m in \u001b[0;36m<cell line: 24>\u001b[0;34m()\u001b[0m\n\u001b[1;32m     <a href='vscode-notebook-cell://ssh-remote%2B128.59.22.126/home/zz2556/code/torchrdit/Demo-03.ipynb#X22sdnNjb2RlLXJlbW90ZQ%3D%3D?line=25'>26</a>\u001b[0m optimizer_rdit\u001b[39m.\u001b[39mzero_grad()\n\u001b[1;32m     <a href='vscode-notebook-cell://ssh-remote%2B128.59.22.126/home/zz2556/code/torchrdit/Demo-03.ipynb#X22sdnNjb2RlLXJlbW90ZQ%3D%3D?line=26'>27</a>\u001b[0m loss_rdit \u001b[39m=\u001b[39m objective_GMRF(gmrf_sim_rdit, src_rdit, r2_rdit_opt)\n\u001b[0;32m---> <a href='vscode-notebook-cell://ssh-remote%2B128.59.22.126/home/zz2556/code/torchrdit/Demo-03.ipynb#X22sdnNjb2RlLXJlbW90ZQ%3D%3D?line=27'>28</a>\u001b[0m loss_rdit\u001b[39m.\u001b[39;49mbackward()\n\u001b[1;32m     <a href='vscode-notebook-cell://ssh-remote%2B128.59.22.126/home/zz2556/code/torchrdit/Demo-03.ipynb#X22sdnNjb2RlLXJlbW90ZQ%3D%3D?line=29'>30</a>\u001b[0m t_elapsed \u001b[39m=\u001b[39m time\u001b[39m.\u001b[39mtime() \u001b[39m-\u001b[39m tic\n\u001b[1;32m     <a href='vscode-notebook-cell://ssh-remote%2B128.59.22.126/home/zz2556/code/torchrdit/Demo-03.ipynb#X22sdnNjb2RlLXJlbW90ZQ%3D%3D?line=30'>31</a>\u001b[0m writer\u001b[39m.\u001b[39madd_scalar(\u001b[39m\"\u001b[39m\u001b[39mRDIT/Loss\u001b[39m\u001b[39m\"\u001b[39m, loss_rdit, epoch)\n",
      "File \u001b[0;32m~/.conda/envs/torchrdit/lib/python3.9/site-packages/torch/_tensor.py:487\u001b[0m, in \u001b[0;36mTensor.backward\u001b[0;34m(self, gradient, retain_graph, create_graph, inputs)\u001b[0m\n\u001b[1;32m    477\u001b[0m \u001b[39mif\u001b[39;00m has_torch_function_unary(\u001b[39mself\u001b[39m):\n\u001b[1;32m    478\u001b[0m     \u001b[39mreturn\u001b[39;00m handle_torch_function(\n\u001b[1;32m    479\u001b[0m         Tensor\u001b[39m.\u001b[39mbackward,\n\u001b[1;32m    480\u001b[0m         (\u001b[39mself\u001b[39m,),\n\u001b[0;32m   (...)\u001b[0m\n\u001b[1;32m    485\u001b[0m         inputs\u001b[39m=\u001b[39minputs,\n\u001b[1;32m    486\u001b[0m     )\n\u001b[0;32m--> 487\u001b[0m torch\u001b[39m.\u001b[39;49mautograd\u001b[39m.\u001b[39;49mbackward(\n\u001b[1;32m    488\u001b[0m     \u001b[39mself\u001b[39;49m, gradient, retain_graph, create_graph, inputs\u001b[39m=\u001b[39;49minputs\n\u001b[1;32m    489\u001b[0m )\n",
      "File \u001b[0;32m~/.conda/envs/torchrdit/lib/python3.9/site-packages/torch/autograd/__init__.py:200\u001b[0m, in \u001b[0;36mbackward\u001b[0;34m(tensors, grad_tensors, retain_graph, create_graph, grad_variables, inputs)\u001b[0m\n\u001b[1;32m    195\u001b[0m     retain_graph \u001b[39m=\u001b[39m create_graph\n\u001b[1;32m    197\u001b[0m \u001b[39m# The reason we repeat same the comment below is that\u001b[39;00m\n\u001b[1;32m    198\u001b[0m \u001b[39m# some Python versions print out the first line of a multi-line function\u001b[39;00m\n\u001b[1;32m    199\u001b[0m \u001b[39m# calls in the traceback and some print out the last line\u001b[39;00m\n\u001b[0;32m--> 200\u001b[0m Variable\u001b[39m.\u001b[39;49m_execution_engine\u001b[39m.\u001b[39;49mrun_backward(  \u001b[39m# Calls into the C++ engine to run the backward pass\u001b[39;49;00m\n\u001b[1;32m    201\u001b[0m     tensors, grad_tensors_, retain_graph, create_graph, inputs,\n\u001b[1;32m    202\u001b[0m     allow_unreachable\u001b[39m=\u001b[39;49m\u001b[39mTrue\u001b[39;49;00m, accumulate_grad\u001b[39m=\u001b[39;49m\u001b[39mTrue\u001b[39;49;00m)\n",
      "\u001b[0;31mKeyboardInterrupt\u001b[0m: "
=======
      "100%|████████████████████████████████████████████████████████████████████████████████████████████████████████████████████████████████████████████████████████████████████████| 200/200 [01:27<00:00,  2.29it/s]"
     ]
    },
    {
     "name": "stdout",
     "output_type": "stream",
     "text": [
      "RDIT optimization time = 87310.83858397324 ms\n"
     ]
    },
    {
     "name": "stderr",
     "output_type": "stream",
     "text": [
      "\n"
>>>>>>> 1fdebfe10c28e4942449d0af974cba296b5a6e53
     ]
    }
   ],
   "source": [
    "from torch.utils.tensorboard import SummaryWriter\n",
    "\n",
    "r2_rdit_opt = torch.tensor(400 * nm)\n",
    "r2_rdit_opt.requires_grad = True\n",
    "\n",
    "# learning rate\n",
    "lr_rate_rdit = 5e-3\n",
    "\n",
    "# Define the optimizer\n",
    "optimizer_rdit = torch.optim.Adam([r2_rdit_opt,], lr=lr_rate_rdit, eps=1e-2)\n",
    "\n",
    "# Define the scheduler\n",
    "scheduler_rdit = torch.optim.lr_scheduler.MultiStepLR(optimizer_rdit, milestones=[50, 100, 150], gamma=0.9)\n",
    "\n",
    "writer = SummaryWriter(comment=\"_RDIT\")\n",
    "\n",
    "# Number of epochs in the optimization\n",
    "EPOCH = 200\n",
    "\n",
    "# ======================= RDIT Optimization =========================\n",
    "\n",
    "t1 = time.perf_counter()\n",
    "\n",
    "for epoch in trange(EPOCH):\n",
    "    tic = time.time()\n",
    "    optimizer_rdit.zero_grad()\n",
    "    loss_rdit = objective_GMRF(gmrf_sim_rdit, src_rdit, r2_rdit_opt)\n",
    "    loss_rdit.backward()\n",
    "    \n",
    "    t_elapsed = time.time() - tic\n",
    "    writer.add_scalar(\"RDIT/Loss\", loss_rdit, epoch)\n",
    "    # writer.add_scalar(\"Train/lr\", optimizer.param_groups[0]['lr'], epoch)\n",
    "    writer.add_scalar(\"RDIT/Radius\", r2_rdit_opt, epoch)\n",
    "    writer.add_scalar(\"RDIT/Radius_grad\", r2_rdit_opt.grad, epoch)\n",
    "    writer.add_scalar(\"RDIT/Time\", t_elapsed, epoch)\n",
    "    optimizer_rdit.step()\n",
    "    scheduler_rdit.step()\n",
    "    \n",
    "t2 = time.perf_counter()\n",
    "print(f\"RDIT optimization time = {(t2 - t1) * 1000} ms\")\n",
    "\n",
    "# ======================= RDIT Optimization =========================\n",
    "    \n",
    "        \n",
    "writer.flush()\n",
    "writer.close()"
   ]
  },
  {
   "cell_type": "code",
<<<<<<< HEAD
   "execution_count": null,
=======
   "execution_count": 15,
>>>>>>> 1fdebfe10c28e4942449d0af974cba296b5a6e53
   "id": "a6388f00-c939-4735-a907-d04b71464662",
   "metadata": {},
   "outputs": [
    {
     "name": "stdout",
     "output_type": "stream",
     "text": [
      "The optimal radius (RDIT) is 0.450023889541626\n"
     ]
    }
   ],
   "source": [
    "print(f\"The optimal radius (RDIT) is {r2_rdit_opt}\")"
   ]
  },
  {
   "cell_type": "code",
<<<<<<< HEAD
   "execution_count": null,
=======
   "execution_count": 16,
>>>>>>> 1fdebfe10c28e4942449d0af974cba296b5a6e53
   "id": "31f07361-904f-4e8d-8103-272df19ba1ea",
   "metadata": {},
   "outputs": [],
   "source": [
    "# Source Parameter\n",
    "nlam = 200\n",
    "lam1 = 1530 * nm\n",
    "lam2 = 1550 * nm\n",
    "lamswp_gmrf = np.linspace(lam1, lam2, nlam, endpoint=True)\n",
    "\n",
    "# Simulate for the optimized the performance \n",
    "data_optimized_rdit = GMRF_simulator(r2_rdit_opt.detach(), lamswp_gmrf, rdit_orders=10, kdims = 9, is_showinfo = True)"
   ]
  },
  {
   "cell_type": "code",
<<<<<<< HEAD
   "execution_count": null,
=======
   "execution_count": 17,
>>>>>>> 1fdebfe10c28e4942449d0af974cba296b5a6e53
   "id": "2cff7963-2ae4-4ddf-b645-d7493993f6f6",
   "metadata": {},
   "outputs": [
    {
     "data": {
      "image/png": "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",
      "text/plain": [
       "<Figure size 400x300 with 1 Axes>"
      ]
     },
     "metadata": {},
     "output_type": "display_data"
    }
   ],
   "source": [
    "plot_spectrum(lamswp0=lamswp_gmrf, data_rdit=data_optimized_rdit);"
   ]
  },
  {
   "cell_type": "code",
<<<<<<< HEAD
   "execution_count": null,
=======
   "execution_count": 18,
>>>>>>> 1fdebfe10c28e4942449d0af974cba296b5a6e53
   "id": "df70907b-a53d-405d-b7d3-5183bb1f41cb",
   "metadata": {},
   "outputs": [],
   "source": [
    "def plot_spectrum_compare_opt(lamswp0, data_org, data_opt):\n",
    "    fig_size = (3,2)\n",
    "    markeverypoints = 4\n",
    "    nlam = len(lamswp0)\n",
    "    nref_gmrf_org = np.zeros(nlam)\n",
    "    ntrn_gmrf_org = np.zeros(nlam)\n",
    "    ncon_gmrf_org = np.zeros(nlam)\n",
    "\n",
    "    nref_gmrf_opt = np.zeros(nlam)\n",
    "    ntrn_gmrf_opt = np.zeros(nlam)\n",
    "    ncon_gmrf_opt = np.zeros(nlam)\n",
    "\n",
    "    for ilam, elem in enumerate(lamswp0):\n",
    "\n",
    "        nref_gmrf_org[ilam] = data_org['REF'][ilam].detach().clone()\n",
    "        ntrn_gmrf_org[ilam] = data_org['TRN'][ilam].detach().clone()\n",
    "        ncon_gmrf_org[ilam] = nref_gmrf_org[ilam] + ntrn_gmrf_org[ilam]\n",
    "\n",
    "        nref_gmrf_opt[ilam] = data_opt['REF'][ilam].detach().clone()\n",
    "        ntrn_gmrf_opt[ilam] = data_opt['TRN'][ilam].detach().clone()\n",
    "        ncon_gmrf_opt[ilam] = nref_gmrf_opt[ilam] + ntrn_gmrf_opt[ilam]\n",
    "\n",
    "    plt.rcParams['font.sans-serif'] = ['Times New Roman']\n",
    "    plt.rcParams.update({'font.size': 10});\n",
    "    # plt.rcParams[\"figure.dpi\"] = 300\n",
    "    fig_gmrf, ax_gmrf = plt.subplots(figsize=fig_size);\n",
    "    ax_gmrf.set_position = ([0, 0, 0.8, 1])\n",
    "    ax_gmrf.set_xlim(lamswp0[0], lamswp0[-1]);\n",
    "    ax_gmrf.plot(lamswp0, nref_gmrf_org, color='red', marker='', linestyle='-.', linewidth=1, markersize=4, markevery=markeverypoints, label='R-Init');\n",
    "    ax_gmrf.plot(lamswp0, ntrn_gmrf_org, color='green', marker='', linestyle='-', linewidth=1, markersize=8, markevery=markeverypoints, label='T-Init');\n",
    "    # ax_gmrf.plot(lamswp0, ncon_gmrf_rcwa, color='brown', marker='', linestyle=':', linewidth=2, markersize=8, label='Con-RCWA')\n",
    "\n",
    "    ax_gmrf.plot(lamswp0, nref_gmrf_opt, color='blue', marker='x', linestyle='-', linewidth=1, markersize=4, markevery=markeverypoints, label='R-Opt');\n",
    "    ax_gmrf.plot(lamswp0, ntrn_gmrf_opt, color='m', marker='', linestyle='--', linewidth=1, markersize=4, markevery=markeverypoints, label='T-Opt');\n",
    "    # ax_gmrf.plot(lamswp0, ncon_gmrf_rdit, color='black', marker='1', linestyle='', linewidth=2, markersize=4, label='Con-RDIT')\n",
    "\n",
    "    ax_gmrf.legend(loc='center left', bbox_to_anchor=(0.6,0.5), frameon=False);\n",
    "    # ax_gmrf.legend(loc='center right');\n",
    "    ax_gmrf.set_xlabel('Wavelength [um]');\n",
    "    ax_gmrf.set_ylabel('T/R');\n",
    "    ax_gmrf.set_ylim([0,1.0]);\n",
    "    # ax_gmrf.grid('on');\n",
    "    \n",
    "    return fig_gmrf, ax_gmrf"
   ]
  },
  {
   "cell_type": "code",
<<<<<<< HEAD
   "execution_count": null,
=======
   "execution_count": 19,
>>>>>>> 1fdebfe10c28e4942449d0af974cba296b5a6e53
   "id": "d2164c14-311c-4ad7-8337-aceeb89a6c40",
   "metadata": {},
   "outputs": [
    {
     "data": {
      "image/png": "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",
      "text/plain": [
       "<Figure size 300x200 with 1 Axes>"
      ]
     },
     "metadata": {},
     "output_type": "display_data"
    }
   ],
   "source": [
    "plot_spectrum_compare_opt(lamswp0=lamswp_gmrf, data_org=data_gmrfswp_rdit, data_opt=data_optimized_rdit);"
   ]
  }
 ],
 "metadata": {
  "kernelspec": {
   "display_name": "torchrdit",
   "language": "python",
   "name": "python3"
  },
  "language_info": {
   "codemirror_mode": {
    "name": "ipython",
    "version": 3
   },
   "file_extension": ".py",
   "mimetype": "text/x-python",
   "name": "python",
   "nbconvert_exporter": "python",
   "pygments_lexer": "ipython3",
   "version": "3.9.16"
  }
 },
 "nbformat": 4,
 "nbformat_minor": 5
}
