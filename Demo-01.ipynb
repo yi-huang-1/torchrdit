{
 "cells": [
  {
   "cell_type": "code",
   "execution_count": 1,
   "id": "510ad615",
   "metadata": {},
   "outputs": [],
   "source": [
    "import torchrdit\n",
    "import numpy as np\n",
    "import matplotlib.pyplot as plt\n",
    "import torch\n",
    "import time\n",
    "\n",
    "from torchrdit.solver import RCWASolver, RDITSolver\n",
    "from torchrdit.utils import operator_proj, create_material\n",
    "from tqdm import tqdm, trange"
   ]
  },
  {
   "cell_type": "markdown",
   "id": "1d2e1ca1-2d52-420f-bb30-60e3f7ea1813",
   "metadata": {
    "tags": []
   },
   "source": [
    "# Example 1 - GMRF with hexagonal unit cells\n",
    "\n",
    "This example shows the simulation of the guided-mode resonance filter (GMRF) using torchrdit with differentiable RCWA algorithm. The device is composed of a SiO hexagonal grating layer, a SiN waveguide layer and a fused silica substrate.\n",
    "\n",
    "The GMRF can be found in the following references:\n",
    "\n",
    "- A. A. Mehta, R. C. Rumpf, Z. A. Roth, and E. G. Johnson, “Guided mode resonance filter as a spectrally selective feedback element in a double-cladding optical fiber laser,” IEEE Photonics Technology Letters, vol. 19, pp. 2030–2032, 12 2007."
   ]
  },
  {
   "cell_type": "code",
   "execution_count": 3,
   "id": "c77bebfa",
   "metadata": {},
   "outputs": [
    {
     "name": "stdout",
     "output_type": "stream",
     "text": [
      "------------------------------------\n",
      "layer # Reflection\n",
      "\tmaterial name: air\n",
      "\tpermittivity: (1+0j)\n",
      "\tpermeability: (1+0j)\n",
      "------------------------------------\n",
      "layer # 0\n",
      "\tmaterial name: SiO\n",
      "\tthinkness = 0.23000000417232513\n",
      "\tdispersive: False\n",
      "\thomogeneous: False\n",
      "\tto be optimized: True\n",
      "------------------------------------\n",
      "layer # 1\n",
      "\tmaterial name: SiN\n",
      "\tthinkness = 0.3449999988079071\n",
      "\tdispersive: False\n",
      "\thomogeneous: True\n",
      "\tto be optimized: False\n",
      "------------------------------------\n",
      "layer # Transmission\n",
      "\tmaterial name: FusedSilica\n",
      "\tpermittivity: (2.2801+0j)\n",
      "\tpermeability: (1+0j)\n",
      "------------------------------------\n"
     ]
    }
   ],
   "source": [
    "# units, normalizing all units to 'um'\n",
    "um = 1\n",
    "nm = 1e-3 * um\n",
    "degrees = np.pi / 180\n",
    "\n",
    "# angles of incident waves\n",
    "theta = 0 * degrees\n",
    "phi = 0 * degrees\n",
    "\n",
    "# polarization\n",
    "pte = 1\n",
    "ptm = 0\n",
    "\n",
    "# refractive index\n",
    "n_SiO = 1.4496\n",
    "n_SiN = 1.9360\n",
    "n_fs = 1.5100\n",
    "\n",
    "# dimensions of the cell\n",
    "a = 1150 * nm\n",
    "b = a * np.sqrt(3)\n",
    "\n",
    "# radius of the holes on the top layer\n",
    "r = 400 * nm\n",
    "\n",
    "# thickness of each layer\n",
    "h1 = torch.tensor(230 * nm, dtype=torch.float32)\n",
    "h2 = torch.tensor(345 * nm, dtype=torch.float32)\n",
    "\n",
    "# lattice vectors of the cell\n",
    "t1 = torch.tensor([[a/2, -a*np.sqrt(3)/2]], dtype=torch.float32)\n",
    "t2 = torch.tensor([[a/2, a*np.sqrt(3)/2]], dtype=torch.float32)\n",
    "\n",
    "# creating materials\n",
    "# all mateiral objects should be added to the 'materiallist' parameter when initializing the solver\n",
    "material_sio = create_material(name='SiO', permittivity=n_SiO**2)\n",
    "material_sin = create_material(name='SiN', permittivity=n_SiN**2)\n",
    "material_fs = create_material(name='FusedSilica', permittivity=n_fs**2)\n",
    "\n",
    "# Initialize the instance of the solver engine\n",
    "dev1 = RCWASolver(rdim = [512, 512],\n",
    "                  kdim = [9, 9],\n",
    "                  lam0 = np.array([1540 * nm, 1550 * nm, 1560 * nm, 1570 * nm]),\n",
    "                  lengthunit = 'um',\n",
    "                  t1 = t1,\n",
    "                  t2 = t2)\n",
    "\n",
    "# update the material of the transmission layer\n",
    "dev1.update_trn_material(trn_material=material_fs)\n",
    "\n",
    "# add a grating layer with patterns, the pattern can be updated later\n",
    "dev1.add_layer(material_name=material_sio,\n",
    "              thickness=h1,\n",
    "              is_homogeneous=False,\n",
    "              is_optimize=True)\n",
    "\n",
    "# add a homongeneous layer\n",
    "dev1.add_layer(material_name=material_sin,\n",
    "              thickness=h2,\n",
    "              is_homogeneous=True,\n",
    "              is_optimize=False)\n",
    "\n",
    "# print layer information\n",
    "dev1.get_layer_structure()\n",
    "\n",
    "# create a source object\n",
    "src1 = dev1.add_source(theta = theta,\n",
    "                 phi = phi,\n",
    "                 pte = pte,\n",
    "                 ptm = ptm)"
   ]
  },
  {
   "cell_type": "code",
   "execution_count": 4,
   "id": "a6f61da9",
   "metadata": {},
   "outputs": [],
   "source": [
    "# build hexagonal unit cell\n",
    "rsq = dev1.XO ** 2 + (dev1.YO - b / 2) ** 2\n",
    "mask = (rsq <= r ** 2)\n",
    "rsq = dev1.XO ** 2 + (dev1.YO + b / 2) ** 2\n",
    "mask = mask | (rsq <= r ** 2)\n",
    "rsq = (dev1.XO - a / 2) ** 2 + dev1.YO ** 2\n",
    "mask = mask | (rsq <= r ** 2)\n",
    "rsq = (dev1.XO + a / 2) ** 2 + dev1.YO ** 2\n",
    "\n",
    "mask = mask | (rsq <= r ** 2)\n",
    "\n",
    "mask = (~ mask)\n",
    "\n",
    "dev1.update_er_with_mask(mask=mask, layer_index=0, set_grad = True)"
   ]
  },
  {
   "cell_type": "code",
   "execution_count": 5,
   "id": "2fcff67e",
   "metadata": {
    "tags": []
   },
   "outputs": [],
   "source": [
    "data = dev1.solve(src1)# Example 1 - GMRF with hexagonal unit cells"
   ]
  },
  {
   "cell_type": "code",
   "execution_count": 6,
   "id": "71550724",
   "metadata": {},
   "outputs": [
    {
     "name": "stdout",
     "output_type": "stream",
     "text": [
      "The transmission efficiency is 92.94513797294486%\n",
      "The reflection efficiency is 7.054862027049949%\n"
     ]
    }
   ],
   "source": [
    "print(f\"The transmission efficiency is {data['TRN'][0] * 100}%\")\n",
    "print(f\"The reflection efficiency is {data['REF'][0] * 100}%\")"
   ]
  },
  {
   "cell_type": "code",
   "execution_count": 7,
   "id": "706abb01",
   "metadata": {},
   "outputs": [],
   "source": [
    "# Start back propagation\n",
    "torch.sum(data['TRN'][0]).backward()"
   ]
  },
  {
   "cell_type": "code",
   "execution_count": 8,
   "id": "e1d53832-ced2-4d39-a7ba-8d498152f660",
   "metadata": {},
   "outputs": [
    {
     "name": "stdout",
     "output_type": "stream",
     "text": [
      "------------------------------------\n",
      "layer # Reflection\n",
      "\tmaterial name: air\n",
      "\tpermittivity: (1+0j)\n",
      "\tpermeability: (1+0j)\n",
      "------------------------------------\n",
      "layer # 0\n",
      "\tmaterial name: SiO\n",
      "\tthinkness = 0.23000000417232513\n",
      "\tdispersive: False\n",
      "\thomogeneous: False\n",
      "\tto be optimized: True\n",
      "------------------------------------\n",
      "layer # 1\n",
      "\tmaterial name: SiN\n",
      "\tthinkness = 0.2199999988079071\n",
      "\tdispersive: False\n",
      "\thomogeneous: True\n",
      "\tto be optimized: False\n",
      "------------------------------------\n",
      "layer # Transmission\n",
      "\tmaterial name: FusedSilica\n",
      "\tpermittivity: (2.2801+0j)\n",
      "\tpermeability: (1+0j)\n",
      "------------------------------------\n",
      "The transmission efficiency is 90.5108706562023%\n",
      "The reflection efficiency is 9.489129343798302%\n"
     ]
    }
   ],
   "source": [
    "# update thickness\n",
    "dev1.update_layer_thickness(layer_index=1,thickness=torch.tensor(220 * nm))\n",
    "dev1.get_layer_structure()\n",
    "data = dev1.solve(src1)# Example 1 - GMRF with hexagonal unit cells\n",
    "\n",
    "print(f\"The transmission efficiency is {data['TRN'][0] * 100}%\")\n",
    "print(f\"The reflection efficiency is {data['REF'][0] * 100}%\")"
   ]
  },
  {
   "cell_type": "markdown",
   "id": "ac367723-4917-44da-9d13-55672ef9ae25",
   "metadata": {
    "tags": []
   },
   "source": [
    "# Example 1a - GMRF with hexagonal unit cells by using RDIT"
   ]
  },
  {
   "cell_type": "code",
   "execution_count": 9,
   "id": "c1e89dcf-4308-4ab4-a5d1-6e20c2f0c57e",
   "metadata": {},
   "outputs": [
    {
     "name": "stdout",
     "output_type": "stream",
     "text": [
      "------------------------------------\n",
      "layer # Reflection\n",
      "\tmaterial name: air\n",
      "\tpermittivity: (1+0j)\n",
      "\tpermeability: (1+0j)\n",
      "------------------------------------\n",
      "layer # 0\n",
      "\tmaterial name: SiO\n",
      "\tthinkness = 0.23000000417232513\n",
      "\tdispersive: False\n",
      "\thomogeneous: False\n",
      "\tto be optimized: True\n",
      "------------------------------------\n",
      "layer # 1\n",
      "\tmaterial name: SiN\n",
      "\tthinkness = 0.3449999988079071\n",
      "\tdispersive: False\n",
      "\thomogeneous: True\n",
      "\tto be optimized: False\n",
      "------------------------------------\n",
      "layer # Transmission\n",
      "\tmaterial name: FusedSilica\n",
      "\tpermittivity: (2.2801+0j)\n",
      "\tpermeability: (1+0j)\n",
      "------------------------------------\n"
     ]
    }
   ],
   "source": [
    "# units, normalizing all units to 'um'\n",
    "um = 1\n",
    "nm = 1e-3 * um\n",
    "degrees = np.pi / 180\n",
    "\n",
    "# angles of incident waves\n",
    "theta = 0 * degrees\n",
    "phi = 0 * degrees\n",
    "\n",
    "# polarization\n",
    "pte = 1\n",
    "ptm = 0\n",
    "\n",
    "# refractive index\n",
    "n_SiO = 1.4496\n",
    "n_SiN = 1.9360\n",
    "n_fs = 1.5100\n",
    "\n",
    "# dimensions of the cell\n",
    "a = 1150 * nm\n",
    "b = a * np.sqrt(3)\n",
    "\n",
    "# radius of the holes on the top layer\n",
    "r = 400 * nm\n",
    "\n",
    "# thickness of each layer\n",
    "h1 = torch.tensor(230 * nm, dtype=torch.float32)\n",
    "h2 = torch.tensor(345 * nm, dtype=torch.float32)\n",
    "\n",
    "# lattice vectors of the cell\n",
    "t1 = torch.tensor([[a/2, -a*np.sqrt(3)/2]], dtype=torch.float32)\n",
    "t2 = torch.tensor([[a/2, a*np.sqrt(3)/2]], dtype=torch.float32)\n",
    "\n",
    "# creating materials\n",
    "# all mateiral objects should be added to the 'materiallist' parameter when initializing the solver\n",
    "material_sio = create_material(name='SiO', permittivity=n_SiO**2)\n",
    "material_sin = create_material(name='SiN', permittivity=n_SiN**2)\n",
    "material_fs = create_material(name='FusedSilica', permittivity=n_fs**2)\n",
    "\n",
    "# Initialize the instance of the solver engine\n",
    "dev1rdit = RDITSolver(\n",
    "            rdim = [512, 512],\n",
    "            kdim=[9,9],\n",
    "            lam0 = np.array([1540 * nm, 1550 * nm, 1560 * nm, 1570 * nm]),\n",
    "            lengthunit = 'um',\n",
    "            t1 = t1,\n",
    "            t2 = t2)\n",
    "\n",
    "# set the order of R-DIT\n",
    "dev1rdit.set_rdit_order(10)\n",
    "\n",
    "# Initialize the instance of the solver engine\n",
    "dev1rdit.update_trn_material(trn_material=material_fs)\n",
    "\n",
    "# add a grating layer with patterns, the pattern can be updated later\n",
    "dev1rdit.add_layer(material_name=material_sio,\n",
    "              thickness=h1,\n",
    "              is_homogeneous=False,\n",
    "              is_optimize=True)\n",
    "\n",
    "# add a homongeneous layer\n",
    "dev1rdit.add_layer(material_name=material_sin,\n",
    "              thickness=h2,\n",
    "              is_homogeneous=True,\n",
    "              is_optimize=False)\n",
    "\n",
    "# print layer information\n",
    "dev1rdit.get_layer_structure()\n",
    "\n",
    "# create a source object\n",
    "src1rdit = dev1rdit.add_source(theta = 0 * degrees,\n",
    "                 phi = 0 * degrees,\n",
    "                 pte = 1,\n",
    "                 ptm = 0)"
   ]
  },
  {
   "cell_type": "code",
   "execution_count": 10,
   "id": "f9de1f08-b115-408e-8648-67ba92778d78",
   "metadata": {},
   "outputs": [],
   "source": [
    "# build hexagonal unit cell\n",
    "rsq = dev1rdit.XO ** 2 + (dev1rdit.YO - b / 2) ** 2\n",
    "mask = (rsq <= r ** 2)\n",
    "rsq = dev1rdit.XO ** 2 + (dev1rdit.YO + b / 2) ** 2\n",
    "mask = mask | (rsq <= r ** 2)\n",
    "rsq = (dev1rdit.XO - a / 2) ** 2 + dev1rdit.YO ** 2\n",
    "mask = mask | (rsq <= r ** 2)\n",
    "rsq = (dev1rdit.XO + a / 2) ** 2 + dev1rdit.YO ** 2\n",
    "mask = mask | (rsq <= r ** 2)\n",
    "\n",
    "mask = (~ mask)\n",
    "\n",
    "dev1rdit.update_er_with_mask(mask=mask, layer_index=0, set_grad = True)"
   ]
  },
  {
   "cell_type": "code",
   "execution_count": 11,
   "id": "fe3ab46f-6be1-4f89-8147-873f2a548255",
   "metadata": {},
   "outputs": [],
   "source": [
    "data = dev1rdit.solve(src1rdit)# Example 1 - GMRF with hexagonal unit cells"
   ]
  },
  {
   "cell_type": "code",
   "execution_count": 13,
   "id": "6dd1ee51-00db-41bf-a595-340ac8f91bae",
   "metadata": {},
   "outputs": [
    {
     "name": "stdout",
     "output_type": "stream",
     "text": [
      "The transmission efficiency is 92.94516169385197%\n",
      "The reflection efficiency is 7.054838306142017%\n"
     ]
    }
   ],
   "source": [
    "print(f\"The transmission efficiency is {data['TRN'][0] * 100}%\")\n",
    "print(f\"The reflection efficiency is {data['REF'][0] * 100}%\")"
   ]
  },
  {
   "cell_type": "code",
   "execution_count": 14,
   "id": "9f372641-deeb-4521-9378-e19485e4245f",
   "metadata": {},
   "outputs": [],
   "source": [
    "# Start back propagation\n",
    "torch.sum(data['TRN'][0]).backward()"
   ]
  },
  {
   "cell_type": "code",
   "execution_count": null,
   "id": "fa8ee737-b8b0-4f0f-85e2-bc5067279619",
   "metadata": {},
   "outputs": [],
   "source": []
  }
 ],
 "metadata": {
  "kernelspec": {
   "display_name": "cem-torch2",
   "language": "python",
   "name": "cem-torch2"
  },
  "language_info": {
   "codemirror_mode": {
    "name": "ipython",
    "version": 3
   },
   "file_extension": ".py",
   "mimetype": "text/x-python",
   "name": "python",
   "nbconvert_exporter": "python",
   "pygments_lexer": "ipython3",
   "version": "3.10.11"
  }
 },
 "nbformat": 4,
 "nbformat_minor": 5
}
